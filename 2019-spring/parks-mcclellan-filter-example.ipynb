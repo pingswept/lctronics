{
 "cells": [
  {
   "cell_type": "code",
   "execution_count": 3,
   "metadata": {},
   "outputs": [],
   "source": [
    "from scipy import signal\n",
    "bpass = signal.remez(72, [0, 0.1, 0.2, 0.4, 0.45, 0.5], [0, 1, 0])"
   ]
  },
  {
   "cell_type": "code",
   "execution_count": 4,
   "metadata": {
    "collapsed": true
   },
   "outputs": [],
   "source": [
    "freq, response = signal.freqz(bpass)\n",
    "import numpy as np\n",
    "ampl = np.abs(response)"
   ]
  },
  {
   "cell_type": "code",
   "execution_count": 8,
   "metadata": {},
   "outputs": [
    {
     "data": {
      "image/png": "[encoded data removed]",
      "text/plain": [
       "<matplotlib.figure.Figure at 0x7ff5758a6e80>"
      ]
     },
     "metadata": {},
     "output_type": "display_data"
    }
   ],
   "source": [
    "import matplotlib.pyplot as plt\n",
    "fig = plt.figure()\n",
    "ax1 = fig.add_subplot(111)\n",
    "ax1.semilogy(freq/(2*np.pi), ampl, 'b-')  # freq in Hz\n",
    "plt.show()"
   ]
  },
  {
   "cell_type": "code",
   "execution_count": 11,
   "metadata": {},
   "outputs": [
    {
     "data": {
      "text/plain": [
       "array([-0.0007472 , -0.00261958, -0.00074584,  0.00199685,  0.00879867,\n",
       "        0.00762723, -0.00301548, -0.01728157, -0.02638489, -0.00358702,\n",
       "        0.02604835,  0.05384791,  0.03218782, -0.02960284, -0.07939245,\n",
       "       -0.08585224,  0.0087658 ,  0.09653173,  0.14129817,  0.05801251,\n",
       "       -0.09589962, -0.17151982, -0.15413942,  0.04733064,  0.17708514,\n",
       "        0.21809405,  0.07192439, -0.16380981, -0.21366961, -0.21071223,\n",
       "        0.09708605,  0.19992056,  0.24572755,  0.07874119, -0.43588867,\n",
       "        0.1235532 ,  0.1235532 , -0.43588867,  0.07874119,  0.24572755,\n",
       "        0.19992056,  0.09708605, -0.21071223, -0.21366961, -0.16380981,\n",
       "        0.07192439,  0.21809405,  0.17708514,  0.04733064, -0.15413942,\n",
       "       -0.17151982, -0.09589962,  0.05801251,  0.14129817,  0.09653173,\n",
       "        0.0087658 , -0.08585224, -0.07939245, -0.02960284,  0.03218782,\n",
       "        0.05384791,  0.02604835, -0.00358702, -0.02638489, -0.01728157,\n",
       "       -0.00301548,  0.00762723,  0.00879867,  0.00199685, -0.00074584,\n",
       "       -0.00261958, -0.0007472 ])"
      ]
     },
     "execution_count": 11,
     "metadata": {},
     "output_type": "execute_result"
    }
   ],
   "source": [
    "bpass"
   ]
  },
  {
   "cell_type": "code",
   "execution_count": 12,
   "metadata": {},
   "outputs": [
    {
     "data": {
      "text/plain": [
       "72"
      ]
     },
     "execution_count": 12,
     "metadata": {},
     "output_type": "execute_result"
    }
   ],
   "source": [
    "len(bpass)"
   ]
  }
 ],
 "metadata": {
  "kernelspec": {
   "display_name": "Python 3",
   "language": "python",
   "name": "python3"
  },
  "language_info": {
   "codemirror_mode": {
    "name": "ipython",
    "version": 3
   },
   "file_extension": ".py",
   "mimetype": "text/x-python",
   "name": "python",
   "nbconvert_exporter": "python",
   "pygments_lexer": "ipython3",
   "version": "3.4.3"
  }
 },
 "nbformat": 4,
 "nbformat_minor": 2
}
